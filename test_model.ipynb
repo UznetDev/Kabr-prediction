{
  "cells": [
    {
      "cell_type": "markdown",
      "metadata": {
        "id": "view-in-github",
        "colab_type": "text"
      },
      "source": [
        "<a href=\"https://colab.research.google.com/github/UznetDev/Kabr-prediction/blob/main/test_model.ipynb\" target=\"_parent\"><img src=\"https://colab.research.google.com/assets/colab-badge.svg\" alt=\"Open In Colab\"/></a>"
      ]
    },
    {
      "cell_type": "code",
      "source": [
        "import pandas as pd\n",
        "import numpy as np\n",
        "from sklearn.model_selection import train_test_split, GridSearchCV, cross_val_score, KFold\n",
        "from sklearn.linear_model import *\n",
        "from sklearn.preprocessing import *\n",
        "from sklearn.feature_selection import *\n",
        "from sklearn.metrics import *\n",
        "from sklearn.ensemble import *\n",
        "from sklearn.pipeline import Pipeline\n",
        "from sklearn.compose import ColumnTransformer\n",
        "from sklearn.impute import SimpleImputer\n",
        "import warnings\n",
        "# warnings.filterwarnings('ignore')"
      ],
      "metadata": {
        "id": "Fuadkc1QIWFS"
      },
      "execution_count": 1,
      "outputs": []
    },
    {
      "cell_type": "markdown",
      "source": [
        "Feature ingenering"
      ],
      "metadata": {
        "id": "F1-EG850TEGS"
      }
    },
    {
      "cell_type": "code",
      "source": [
        "def feature_funk(df):\n",
        "    df['Surface Area'] = 2 * (df['Length'] * df['Diameter'] + df['Length'] * df['Height'] + df['Diameter'] * df['Height'])\n",
        "    df['Vol'] = df['Length'] * df['Diameter'] * df['Height']\n",
        "    df['Vol_Hgt'] = (4/3) * np.pi * (df['Length']/2) * (df['Diameter']/2) * (df['Height']/2)\n",
        "\n",
        "    df['Log_Wt'] = df['Weight'].agg(lambda x: np.log(x + 1) if x > 0 else np.nan)\n",
        "    df['Length Bins'] = pd.qcut(df['Length'], q=4, labels=False)\n",
        "\n",
        "    df['Wt_Red_Aft_Shk'] = df['Weight'] - df['Shucked Weight']\n",
        "    df['Vis_Wt_Prop'] = df['Viscera Weight'] / df['Weight']\n",
        "\n",
        "    df['Len_to_Dia_Ratio'] = df['Length'] / df['Diameter']\n",
        "    df['Hgt_to_Wt_Ratio'] = df['Height'] / df['Weight']\n",
        "\n",
        "    sex = {'I': 1, 'F': 3, 'M': 2}\n",
        "    df['Sex'] = df['Sex'].replace(sex)\n",
        "    df = df[df['Sex'].isin([1, 2, 3])]\n",
        "    df.loc[:, 'Sex'] = pd.to_numeric(df['Sex'], errors='coerce')\n",
        "\n",
        "    return df\n",
        "\n",
        "train_df = feature_funk(pd.read_csv('train.csv'))"
      ],
      "metadata": {
        "colab": {
          "base_uri": "https://localhost:8080/"
        },
        "id": "aefDAJMtTC-Y",
        "outputId": "d5971fbb-c9f8-475e-ef52-0cfaa2d4f84a"
      },
      "execution_count": 2,
      "outputs": [
        {
          "output_type": "stream",
          "name": "stderr",
          "text": [
            "<ipython-input-2-d579729c8722>:6: FutureWarning: using <function feature_funk.<locals>.<lambda> at 0x7e37230d79a0> in Series.agg cannot aggregate and has been deprecated. Use Series.transform to keep behavior unchanged.\n",
            "  df['Log_Wt'] = df['Weight'].agg(lambda x: np.log(x + 1) if x > 0 else np.nan)\n"
          ]
        }
      ]
    },
    {
      "cell_type": "markdown",
      "source": [
        "Training model"
      ],
      "metadata": {
        "id": "MftiGPkSS9kl"
      }
    },
    {
      "cell_type": "code",
      "source": [
        "X = train_df.drop(columns=['id', 'Age'])\n",
        "y = train_df['Age']\n",
        "\n",
        "preprocessor = ColumnTransformer(\n",
        "    transformers=[\n",
        "        ('num', Pipeline([\n",
        "            ('imputer', SimpleImputer(strategy='mean')),\n",
        "            ('poly', PolynomialFeatures(degree=2, include_bias=False, interaction_only=True)),\n",
        "            ('scaler', StandardScaler())\n",
        "        ]), X.columns),\n",
        "    ])\n",
        "cv = KFold(n_splits=5, shuffle=True, random_state=42)\n",
        "\n",
        "\n",
        "\n",
        "pipeline = Pipeline(steps=[\n",
        "    ('preprocessor', preprocessor),\n",
        "    ('model', HuberRegressor(alpha=0.0001, max_iter=100000))\n",
        "\n",
        "])\n",
        "\n",
        "X_train, X_test, y_train, y_test = train_test_split(X, y, test_size=0.3, random_state=42)\n",
        "\n",
        "cv_scores = cross_val_score(pipeline, X_train, y_train, cv=cv, scoring='neg_mean_absolute_error')\n",
        "\n",
        "\n",
        "mean_cv_mae = -np.mean(cv_scores)\n",
        "pipeline.fit(X_train, y_train)\n",
        "\n",
        "y_pred = pipeline.predict(X_test)\n",
        "mae = mean_absolute_error(y_test, y_pred)\n",
        "r2 = r2_score(y_test, y_pred)\n",
        "mse = mean_squared_error(y_test, y_pred)\n",
        "\n",
        "print(f'CV RMAE: {np.mean(-cv_scores):.4f}')\n",
        "print(f'Test MAE: {mae:.4f}')\n",
        "print(f'Test MSE: {mse:.4f}')\n",
        "print(f'Test R^2 Score: {r2:.4f}')"
      ],
      "metadata": {
        "colab": {
          "base_uri": "https://localhost:8080/"
        },
        "id": "96qDsZOHZA8c",
        "outputId": "0ee42888-febd-4c61-b2c6-28f3d7d3c90f"
      },
      "execution_count": 3,
      "outputs": [
        {
          "output_type": "stream",
          "name": "stdout",
          "text": [
            "CV RMAE: 1.3320\n",
            "Test MAE: 1.3118\n",
            "Test MSE: 3.8770\n",
            "Test R^2 Score: 0.6136\n"
          ]
        }
      ]
    }
  ],
  "metadata": {
    "kernelspec": {
      "display_name": "Python 3",
      "name": "python3"
    },
    "language_info": {
      "codemirror_mode": {
        "name": "ipython",
        "version": 3
      },
      "file_extension": ".py",
      "mimetype": "text/x-python",
      "name": "python",
      "nbconvert_exporter": "python",
      "pygments_lexer": "ipython3",
      "version": "3.11.5"
    },
    "colab": {
      "provenance": [],
      "gpuType": "T4",
      "include_colab_link": true
    },
    "accelerator": "GPU"
  },
  "nbformat": 4,
  "nbformat_minor": 0
}