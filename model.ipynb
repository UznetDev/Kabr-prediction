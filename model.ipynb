{
  "cells": [
    {
      "cell_type": "markdown",
      "metadata": {
        "id": "view-in-github",
        "colab_type": "text"
      },
      "source": [
        "<a href=\"https://colab.research.google.com/github/UznetDev/Kabr-prediction/blob/main/model.ipynb\" target=\"_parent\"><img src=\"https://colab.research.google.com/assets/colab-badge.svg\" alt=\"Open In Colab\"/></a>"
      ]
    },
    {
      "cell_type": "code",
      "source": [
        "import pandas as pd\n",
        "import numpy as np\n",
        "from sklearn.model_selection import train_test_split, GridSearchCV, cross_val_score, KFold\n",
        "from sklearn.linear_model import *\n",
        "from sklearn.preprocessing import *\n",
        "from sklearn.feature_selection import *\n",
        "from sklearn.metrics import *\n",
        "from sklearn.ensemble import *\n",
        "from sklearn.pipeline import Pipeline\n",
        "from sklearn.compose import ColumnTransformer\n",
        "from sklearn.impute import SimpleImputer\n",
        "import warnings\n",
        "# warnings.filterwarnings('ignore')"
      ],
      "metadata": {
        "id": "Fuadkc1QIWFS"
      },
      "execution_count": null,
      "outputs": []
    },
    {
      "cell_type": "code",
      "source": [
        "def feature_funk(df):\n",
        "    df['Surface Area'] = 2 * (df['Length'] * df['Diameter'] + df['Length'] * df['Height'] + df['Diameter'] * df['Height'])\n",
        "    df['Vol'] = df['Length'] * df['Diameter'] * df['Height']\n",
        "    df['Vol_Hgt'] = (4/3) * np.pi * (df['Length']/2) * (df['Diameter']/2) * (df['Height']/2)\n",
        "\n",
        "    df['Log_Wt'] = df['Weight'].agg(lambda x: np.log(x + 1) if x > 0 else np.nan)\n",
        "    df['Length Bins'] = pd.qcut(df['Length'], q=4, labels=False)\n",
        "\n",
        "    df['Wt_Red_Aft_Shk'] = df['Weight'] - df['Shucked Weight']\n",
        "    df['Vis_Wt_Prop'] = df['Viscera Weight'] / df['Weight']\n",
        "\n",
        "    df['Len_to_Dia_Ratio'] = df['Length'] / df['Diameter']\n",
        "    df['Hgt_to_Wt_Ratio'] = df['Height'] / df['Weight']\n",
        "\n",
        "    sex = {'I': 1, 'F': 3, 'M': 2}\n",
        "    df['Sex'] = df['Sex'].replace(sex)\n",
        "    df = df[df['Sex'].isin([1, 2, 3])]\n",
        "    df.loc[:, 'Sex'] = pd.to_numeric(df['Sex'], errors='coerce')\n",
        "\n",
        "    return df\n",
        "\n",
        "train_df = feature_funk(pd.read_csv('train.csv'))\n",
        "\n",
        "\n",
        "X = train_df.drop(columns=['id', 'Age'])\n",
        "y = train_df['Age']\n",
        "\n",
        "preprocessor = ColumnTransformer(\n",
        "    transformers=[\n",
        "        ('num', Pipeline([\n",
        "            ('imputer', SimpleImputer(strategy='mean')),\n",
        "            ('poly', PolynomialFeatures(degree=2, include_bias=False, interaction_only=True)),\n",
        "            ('scaler', StandardScaler())\n",
        "        ]), X.columns),\n",
        "    ])\n",
        "cv = KFold(n_splits=5, shuffle=True, random_state=42)\n",
        "\n",
        "\n",
        "\n",
        "pipeline = Pipeline(steps=[\n",
        "    ('preprocessor', preprocessor),\n",
        "    ('model', HuberRegressor(alpha=0.0001, max_iter=100000))\n",
        "\n",
        "])\n",
        "\n",
        "cv_scores = cross_val_score(pipeline, X, y, cv=cv, scoring='neg_mean_absolute_error')\n",
        "\n",
        "pipeline.fit(X, y)"
      ],
      "metadata": {
        "colab": {
          "base_uri": "https://localhost:8080/",
          "height": 311
        },
        "id": "96qDsZOHZA8c",
        "outputId": "039a2149-97e9-49fd-eb3d-3d98fbb223ee"
      },
      "execution_count": null,
      "outputs": [
        {
          "output_type": "stream",
          "name": "stderr",
          "text": [
            "<ipython-input-4-0884ef7e8b6a>:6: FutureWarning: using <function feature_funk.<locals>.<lambda> at 0x7f4d739cb9a0> in Series.agg cannot aggregate and has been deprecated. Use Series.transform to keep behavior unchanged.\n",
            "  df['Log_Wt'] = df['Weight'].agg(lambda x: np.log(x + 1) if x > 0 else np.nan)\n"
          ]
        },
        {
          "output_type": "execute_result",
          "data": {
            "text/plain": [
              "Pipeline(steps=[('preprocessor',\n",
              "                 ColumnTransformer(transformers=[('num',\n",
              "                                                  Pipeline(steps=[('imputer',\n",
              "                                                                   SimpleImputer()),\n",
              "                                                                  ('poly',\n",
              "                                                                   PolynomialFeatures(include_bias=False,\n",
              "                                                                                      interaction_only=True)),\n",
              "                                                                  ('scaler',\n",
              "                                                                   StandardScaler())]),\n",
              "                                                  Index(['Sex', 'Length', 'Diameter', 'Height', 'Weight', 'Shucked Weight',\n",
              "       'Viscera Weight', 'Shell Weight', 'Surface Area', 'Vol', 'Vol_Hgt',\n",
              "       'Log_Wt', 'Length Bins', 'Wt_Red_Aft_Shk', 'Vis_Wt_Prop',\n",
              "       'Len_to_Dia_Ratio', 'Hgt_to_Wt_Ratio'],\n",
              "      dtype='object'))])),\n",
              "                ('model', HuberRegressor(max_iter=100000))])"
            ],
            "text/html": [
              "<style>#sk-container-id-1 {color: black;}#sk-container-id-1 pre{padding: 0;}#sk-container-id-1 div.sk-toggleable {background-color: white;}#sk-container-id-1 label.sk-toggleable__label {cursor: pointer;display: block;width: 100%;margin-bottom: 0;padding: 0.3em;box-sizing: border-box;text-align: center;}#sk-container-id-1 label.sk-toggleable__label-arrow:before {content: \"▸\";float: left;margin-right: 0.25em;color: #696969;}#sk-container-id-1 label.sk-toggleable__label-arrow:hover:before {color: black;}#sk-container-id-1 div.sk-estimator:hover label.sk-toggleable__label-arrow:before {color: black;}#sk-container-id-1 div.sk-toggleable__content {max-height: 0;max-width: 0;overflow: hidden;text-align: left;background-color: #f0f8ff;}#sk-container-id-1 div.sk-toggleable__content pre {margin: 0.2em;color: black;border-radius: 0.25em;background-color: #f0f8ff;}#sk-container-id-1 input.sk-toggleable__control:checked~div.sk-toggleable__content {max-height: 200px;max-width: 100%;overflow: auto;}#sk-container-id-1 input.sk-toggleable__control:checked~label.sk-toggleable__label-arrow:before {content: \"▾\";}#sk-container-id-1 div.sk-estimator input.sk-toggleable__control:checked~label.sk-toggleable__label {background-color: #d4ebff;}#sk-container-id-1 div.sk-label input.sk-toggleable__control:checked~label.sk-toggleable__label {background-color: #d4ebff;}#sk-container-id-1 input.sk-hidden--visually {border: 0;clip: rect(1px 1px 1px 1px);clip: rect(1px, 1px, 1px, 1px);height: 1px;margin: -1px;overflow: hidden;padding: 0;position: absolute;width: 1px;}#sk-container-id-1 div.sk-estimator {font-family: monospace;background-color: #f0f8ff;border: 1px dotted black;border-radius: 0.25em;box-sizing: border-box;margin-bottom: 0.5em;}#sk-container-id-1 div.sk-estimator:hover {background-color: #d4ebff;}#sk-container-id-1 div.sk-parallel-item::after {content: \"\";width: 100%;border-bottom: 1px solid gray;flex-grow: 1;}#sk-container-id-1 div.sk-label:hover label.sk-toggleable__label {background-color: #d4ebff;}#sk-container-id-1 div.sk-serial::before {content: \"\";position: absolute;border-left: 1px solid gray;box-sizing: border-box;top: 0;bottom: 0;left: 50%;z-index: 0;}#sk-container-id-1 div.sk-serial {display: flex;flex-direction: column;align-items: center;background-color: white;padding-right: 0.2em;padding-left: 0.2em;position: relative;}#sk-container-id-1 div.sk-item {position: relative;z-index: 1;}#sk-container-id-1 div.sk-parallel {display: flex;align-items: stretch;justify-content: center;background-color: white;position: relative;}#sk-container-id-1 div.sk-item::before, #sk-container-id-1 div.sk-parallel-item::before {content: \"\";position: absolute;border-left: 1px solid gray;box-sizing: border-box;top: 0;bottom: 0;left: 50%;z-index: -1;}#sk-container-id-1 div.sk-parallel-item {display: flex;flex-direction: column;z-index: 1;position: relative;background-color: white;}#sk-container-id-1 div.sk-parallel-item:first-child::after {align-self: flex-end;width: 50%;}#sk-container-id-1 div.sk-parallel-item:last-child::after {align-self: flex-start;width: 50%;}#sk-container-id-1 div.sk-parallel-item:only-child::after {width: 0;}#sk-container-id-1 div.sk-dashed-wrapped {border: 1px dashed gray;margin: 0 0.4em 0.5em 0.4em;box-sizing: border-box;padding-bottom: 0.4em;background-color: white;}#sk-container-id-1 div.sk-label label {font-family: monospace;font-weight: bold;display: inline-block;line-height: 1.2em;}#sk-container-id-1 div.sk-label-container {text-align: center;}#sk-container-id-1 div.sk-container {/* jupyter's `normalize.less` sets `[hidden] { display: none; }` but bootstrap.min.css set `[hidden] { display: none !important; }` so we also need the `!important` here to be able to override the default hidden behavior on the sphinx rendered scikit-learn.org. See: https://github.com/scikit-learn/scikit-learn/issues/21755 */display: inline-block !important;position: relative;}#sk-container-id-1 div.sk-text-repr-fallback {display: none;}</style><div id=\"sk-container-id-1\" class=\"sk-top-container\"><div class=\"sk-text-repr-fallback\"><pre>Pipeline(steps=[(&#x27;preprocessor&#x27;,\n",
              "                 ColumnTransformer(transformers=[(&#x27;num&#x27;,\n",
              "                                                  Pipeline(steps=[(&#x27;imputer&#x27;,\n",
              "                                                                   SimpleImputer()),\n",
              "                                                                  (&#x27;poly&#x27;,\n",
              "                                                                   PolynomialFeatures(include_bias=False,\n",
              "                                                                                      interaction_only=True)),\n",
              "                                                                  (&#x27;scaler&#x27;,\n",
              "                                                                   StandardScaler())]),\n",
              "                                                  Index([&#x27;Sex&#x27;, &#x27;Length&#x27;, &#x27;Diameter&#x27;, &#x27;Height&#x27;, &#x27;Weight&#x27;, &#x27;Shucked Weight&#x27;,\n",
              "       &#x27;Viscera Weight&#x27;, &#x27;Shell Weight&#x27;, &#x27;Surface Area&#x27;, &#x27;Vol&#x27;, &#x27;Vol_Hgt&#x27;,\n",
              "       &#x27;Log_Wt&#x27;, &#x27;Length Bins&#x27;, &#x27;Wt_Red_Aft_Shk&#x27;, &#x27;Vis_Wt_Prop&#x27;,\n",
              "       &#x27;Len_to_Dia_Ratio&#x27;, &#x27;Hgt_to_Wt_Ratio&#x27;],\n",
              "      dtype=&#x27;object&#x27;))])),\n",
              "                (&#x27;model&#x27;, HuberRegressor(max_iter=100000))])</pre><b>In a Jupyter environment, please rerun this cell to show the HTML representation or trust the notebook. <br />On GitHub, the HTML representation is unable to render, please try loading this page with nbviewer.org.</b></div><div class=\"sk-container\" hidden><div class=\"sk-item sk-dashed-wrapped\"><div class=\"sk-label-container\"><div class=\"sk-label sk-toggleable\"><input class=\"sk-toggleable__control sk-hidden--visually\" id=\"sk-estimator-id-1\" type=\"checkbox\" ><label for=\"sk-estimator-id-1\" class=\"sk-toggleable__label sk-toggleable__label-arrow\">Pipeline</label><div class=\"sk-toggleable__content\"><pre>Pipeline(steps=[(&#x27;preprocessor&#x27;,\n",
              "                 ColumnTransformer(transformers=[(&#x27;num&#x27;,\n",
              "                                                  Pipeline(steps=[(&#x27;imputer&#x27;,\n",
              "                                                                   SimpleImputer()),\n",
              "                                                                  (&#x27;poly&#x27;,\n",
              "                                                                   PolynomialFeatures(include_bias=False,\n",
              "                                                                                      interaction_only=True)),\n",
              "                                                                  (&#x27;scaler&#x27;,\n",
              "                                                                   StandardScaler())]),\n",
              "                                                  Index([&#x27;Sex&#x27;, &#x27;Length&#x27;, &#x27;Diameter&#x27;, &#x27;Height&#x27;, &#x27;Weight&#x27;, &#x27;Shucked Weight&#x27;,\n",
              "       &#x27;Viscera Weight&#x27;, &#x27;Shell Weight&#x27;, &#x27;Surface Area&#x27;, &#x27;Vol&#x27;, &#x27;Vol_Hgt&#x27;,\n",
              "       &#x27;Log_Wt&#x27;, &#x27;Length Bins&#x27;, &#x27;Wt_Red_Aft_Shk&#x27;, &#x27;Vis_Wt_Prop&#x27;,\n",
              "       &#x27;Len_to_Dia_Ratio&#x27;, &#x27;Hgt_to_Wt_Ratio&#x27;],\n",
              "      dtype=&#x27;object&#x27;))])),\n",
              "                (&#x27;model&#x27;, HuberRegressor(max_iter=100000))])</pre></div></div></div><div class=\"sk-serial\"><div class=\"sk-item sk-dashed-wrapped\"><div class=\"sk-label-container\"><div class=\"sk-label sk-toggleable\"><input class=\"sk-toggleable__control sk-hidden--visually\" id=\"sk-estimator-id-2\" type=\"checkbox\" ><label for=\"sk-estimator-id-2\" class=\"sk-toggleable__label sk-toggleable__label-arrow\">preprocessor: ColumnTransformer</label><div class=\"sk-toggleable__content\"><pre>ColumnTransformer(transformers=[(&#x27;num&#x27;,\n",
              "                                 Pipeline(steps=[(&#x27;imputer&#x27;, SimpleImputer()),\n",
              "                                                 (&#x27;poly&#x27;,\n",
              "                                                  PolynomialFeatures(include_bias=False,\n",
              "                                                                     interaction_only=True)),\n",
              "                                                 (&#x27;scaler&#x27;, StandardScaler())]),\n",
              "                                 Index([&#x27;Sex&#x27;, &#x27;Length&#x27;, &#x27;Diameter&#x27;, &#x27;Height&#x27;, &#x27;Weight&#x27;, &#x27;Shucked Weight&#x27;,\n",
              "       &#x27;Viscera Weight&#x27;, &#x27;Shell Weight&#x27;, &#x27;Surface Area&#x27;, &#x27;Vol&#x27;, &#x27;Vol_Hgt&#x27;,\n",
              "       &#x27;Log_Wt&#x27;, &#x27;Length Bins&#x27;, &#x27;Wt_Red_Aft_Shk&#x27;, &#x27;Vis_Wt_Prop&#x27;,\n",
              "       &#x27;Len_to_Dia_Ratio&#x27;, &#x27;Hgt_to_Wt_Ratio&#x27;],\n",
              "      dtype=&#x27;object&#x27;))])</pre></div></div></div><div class=\"sk-parallel\"><div class=\"sk-parallel-item\"><div class=\"sk-item\"><div class=\"sk-label-container\"><div class=\"sk-label sk-toggleable\"><input class=\"sk-toggleable__control sk-hidden--visually\" id=\"sk-estimator-id-3\" type=\"checkbox\" ><label for=\"sk-estimator-id-3\" class=\"sk-toggleable__label sk-toggleable__label-arrow\">num</label><div class=\"sk-toggleable__content\"><pre>Index([&#x27;Sex&#x27;, &#x27;Length&#x27;, &#x27;Diameter&#x27;, &#x27;Height&#x27;, &#x27;Weight&#x27;, &#x27;Shucked Weight&#x27;,\n",
              "       &#x27;Viscera Weight&#x27;, &#x27;Shell Weight&#x27;, &#x27;Surface Area&#x27;, &#x27;Vol&#x27;, &#x27;Vol_Hgt&#x27;,\n",
              "       &#x27;Log_Wt&#x27;, &#x27;Length Bins&#x27;, &#x27;Wt_Red_Aft_Shk&#x27;, &#x27;Vis_Wt_Prop&#x27;,\n",
              "       &#x27;Len_to_Dia_Ratio&#x27;, &#x27;Hgt_to_Wt_Ratio&#x27;],\n",
              "      dtype=&#x27;object&#x27;)</pre></div></div></div><div class=\"sk-serial\"><div class=\"sk-item\"><div class=\"sk-serial\"><div class=\"sk-item\"><div class=\"sk-estimator sk-toggleable\"><input class=\"sk-toggleable__control sk-hidden--visually\" id=\"sk-estimator-id-4\" type=\"checkbox\" ><label for=\"sk-estimator-id-4\" class=\"sk-toggleable__label sk-toggleable__label-arrow\">SimpleImputer</label><div class=\"sk-toggleable__content\"><pre>SimpleImputer()</pre></div></div></div><div class=\"sk-item\"><div class=\"sk-estimator sk-toggleable\"><input class=\"sk-toggleable__control sk-hidden--visually\" id=\"sk-estimator-id-5\" type=\"checkbox\" ><label for=\"sk-estimator-id-5\" class=\"sk-toggleable__label sk-toggleable__label-arrow\">PolynomialFeatures</label><div class=\"sk-toggleable__content\"><pre>PolynomialFeatures(include_bias=False, interaction_only=True)</pre></div></div></div><div class=\"sk-item\"><div class=\"sk-estimator sk-toggleable\"><input class=\"sk-toggleable__control sk-hidden--visually\" id=\"sk-estimator-id-6\" type=\"checkbox\" ><label for=\"sk-estimator-id-6\" class=\"sk-toggleable__label sk-toggleable__label-arrow\">StandardScaler</label><div class=\"sk-toggleable__content\"><pre>StandardScaler()</pre></div></div></div></div></div></div></div></div></div></div><div class=\"sk-item\"><div class=\"sk-estimator sk-toggleable\"><input class=\"sk-toggleable__control sk-hidden--visually\" id=\"sk-estimator-id-7\" type=\"checkbox\" ><label for=\"sk-estimator-id-7\" class=\"sk-toggleable__label sk-toggleable__label-arrow\">HuberRegressor</label><div class=\"sk-toggleable__content\"><pre>HuberRegressor(max_iter=100000)</pre></div></div></div></div></div></div></div>"
            ]
          },
          "metadata": {},
          "execution_count": 4
        }
      ]
    },
    {
      "cell_type": "code",
      "source": [
        "test_df = feature_funk(pd.read_csv('test.csv'))\n",
        "test_y = test_df.drop(columns=['id'])\n",
        "y_pred = pipeline.predict(test_y)\n",
        "seple_df = pd.DataFrame({'id': test_df['id'], 'Age': y_pred})\n",
        "seple_df.to_csv('StandardScaler.csv', index=False)"
      ],
      "metadata": {
        "colab": {
          "base_uri": "https://localhost:8080/"
        },
        "id": "2CNxLra-hJ88",
        "outputId": "3d6519d1-7bc0-4383-a811-71b24fd24f6f"
      },
      "execution_count": null,
      "outputs": [
        {
          "output_type": "stream",
          "name": "stderr",
          "text": [
            "<ipython-input-4-0884ef7e8b6a>:6: FutureWarning: using <function feature_funk.<locals>.<lambda> at 0x7f4d6350e0e0> in Series.agg cannot aggregate and has been deprecated. Use Series.transform to keep behavior unchanged.\n",
            "  df['Log_Wt'] = df['Weight'].agg(lambda x: np.log(x + 1) if x > 0 else np.nan)\n"
          ]
        }
      ]
    }
  ],
  "metadata": {
    "kernelspec": {
      "display_name": "Python 3",
      "name": "python3"
    },
    "language_info": {
      "codemirror_mode": {
        "name": "ipython",
        "version": 3
      },
      "file_extension": ".py",
      "mimetype": "text/x-python",
      "name": "python",
      "nbconvert_exporter": "python",
      "pygments_lexer": "ipython3",
      "version": "3.11.5"
    },
    "colab": {
      "provenance": [],
      "gpuType": "T4",
      "include_colab_link": true
    },
    "accelerator": "GPU"
  },
  "nbformat": 4,
  "nbformat_minor": 0
}